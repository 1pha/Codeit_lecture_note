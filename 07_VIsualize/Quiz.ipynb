{
 "cells": [
  {
   "cell_type": "code",
   "execution_count": null,
   "metadata": {},
   "outputs": [],
   "source": [
    "# 06. Assignment Code\n",
    "%matplotlib inline\n",
    "import pandas as pd\n",
    "\n",
    "df = pd.read_csv('data/silicon_valley_summary.csv')\n",
    "cond = (df['gender']=='Male') & (df['job_category']=='Managers') & (df['race_ethnicity']!='All')\n",
    "df[cond].plot(x='race_ethnicity', y='count', kind='bar')"
   ]
  },
  {
   "cell_type": "code",
   "execution_count": null,
   "metadata": {},
   "outputs": [],
   "source": [
    "# 09, 10 Quiz\n",
    "%matplotlib inline\n",
    "import pandas as pd\n",
    "\n",
    "df = pd.read_csv(\"data/silicon_valley_details.csv\")\n",
    "\n",
    "boolean_adobe = df['company'] == 'Adobe'\n",
    "boolean_all_races = df['race'] == 'Overall_totals'\n",
    "boolean_count = df['count'] != 0\n",
    "boolean_job_category = (df['job_category'] != 'Totals') & (df['job_category'] != 'Previous_totals')\n",
    "\n",
    "df_adobe = df[boolean_adobe & boolean_all_races & boolean_count & boolean_job_category]\n",
    "df_adobe.set_index('job_category', inplace=True)\n",
    "df_adobe.plot(kind='pie', y= 'count')"
   ]
  },
  {
   "cell_type": "code",
   "execution_count": null,
   "metadata": {},
   "outputs": [],
   "source": [
    "# 12, 13\n",
    "%matplotlib inline\n",
    "import pandas as pd\n",
    "\n",
    "df = pd.read_csv(\"data/starbucks_drinks.csv\")\n",
    "df.plot(kind='hist', y='Calories', bins=20)"
   ]
  },
  {
   "cell_type": "code",
   "execution_count": null,
   "metadata": {},
   "outputs": [],
   "source": [
    "# 15, 16 Quiz\n",
    "%matplotlib inline\n",
    "import pandas as pd\n",
    "\n",
    "df = pd.read_csv(\"data/starbucks_drinks.csv\")\n",
    "df['Calories'].plot(kind='box')"
   ]
  },
  {
   "cell_type": "code",
   "execution_count": 2,
   "metadata": {},
   "outputs": [
    {
     "data": {
      "text/html": [
       "<div>\n",
       "<style scoped>\n",
       "    .dataframe tbody tr th:only-of-type {\n",
       "        vertical-align: middle;\n",
       "    }\n",
       "\n",
       "    .dataframe tbody tr th {\n",
       "        vertical-align: top;\n",
       "    }\n",
       "\n",
       "    .dataframe thead th {\n",
       "        text-align: right;\n",
       "    }\n",
       "</style>\n",
       "<table border=\"1\" class=\"dataframe\">\n",
       "  <thead>\n",
       "    <tr style=\"text-align: right;\">\n",
       "      <th></th>\n",
       "      <th>Human Development Index HDI-2014</th>\n",
       "      <th>Gini coefficient 2005-2013</th>\n",
       "      <th>Adolescent birth rate 15-19 per 100k 20102015</th>\n",
       "      <th>Birth registration funder age 5 2005-2013</th>\n",
       "      <th>Carbon dioxide emissionsAverage annual growth</th>\n",
       "      <th>Carbon dioxide emissions per capita 2011 Tones</th>\n",
       "      <th>Change forest percentable 1900 to 2012</th>\n",
       "      <th>Change mobile usage 2009 2014</th>\n",
       "      <th>Consumer price index 2013</th>\n",
       "      <th>Domestic credit provided by financial sector 2013</th>\n",
       "      <th>...</th>\n",
       "      <th>Renewable sources percentage of total 2012</th>\n",
       "      <th>Research and development expenditure  2005-2012</th>\n",
       "      <th>Secondary 2008-2014</th>\n",
       "      <th>Share of seats in parliament percentage held by womand 2014</th>\n",
       "      <th>Stock of immigrants percentage of population 2013</th>\n",
       "      <th>Taxes on income profit and capital gain 205 2013</th>\n",
       "      <th>Tertiary -2008-2014</th>\n",
       "      <th>Total tax revenue of GDP 2005-2013</th>\n",
       "      <th>Tuberculosis rate per thousands 2012</th>\n",
       "      <th>Under-five Mortality 2013 thousands</th>\n",
       "    </tr>\n",
       "    <tr>\n",
       "      <th>Id</th>\n",
       "      <th></th>\n",
       "      <th></th>\n",
       "      <th></th>\n",
       "      <th></th>\n",
       "      <th></th>\n",
       "      <th></th>\n",
       "      <th></th>\n",
       "      <th></th>\n",
       "      <th></th>\n",
       "      <th></th>\n",
       "      <th></th>\n",
       "      <th></th>\n",
       "      <th></th>\n",
       "      <th></th>\n",
       "      <th></th>\n",
       "      <th></th>\n",
       "      <th></th>\n",
       "      <th></th>\n",
       "      <th></th>\n",
       "      <th></th>\n",
       "      <th></th>\n",
       "    </tr>\n",
       "  </thead>\n",
       "  <tbody>\n",
       "    <tr>\n",
       "      <th>Norway</th>\n",
       "      <td>0.943877</td>\n",
       "      <td>26.83</td>\n",
       "      <td>7.834</td>\n",
       "      <td>100.0</td>\n",
       "      <td>0.778925</td>\n",
       "      <td>9.192879</td>\n",
       "      <td>11.914567</td>\n",
       "      <td>5.22</td>\n",
       "      <td>104.194175</td>\n",
       "      <td>86.956222</td>\n",
       "      <td>...</td>\n",
       "      <td>47.752676</td>\n",
       "      <td>1.65474</td>\n",
       "      <td>111.06130</td>\n",
       "      <td>39.644970</td>\n",
       "      <td>13.772622</td>\n",
       "      <td>31.798391</td>\n",
       "      <td>74.10112</td>\n",
       "      <td>27.288097</td>\n",
       "      <td>0.14</td>\n",
       "      <td>2.8</td>\n",
       "    </tr>\n",
       "    <tr>\n",
       "      <th>Australia</th>\n",
       "      <td>0.934958</td>\n",
       "      <td>34.01</td>\n",
       "      <td>12.059</td>\n",
       "      <td>100.0</td>\n",
       "      <td>1.090351</td>\n",
       "      <td>16.519210</td>\n",
       "      <td>-4.561812</td>\n",
       "      <td>30.27</td>\n",
       "      <td>107.789440</td>\n",
       "      <td>158.840776</td>\n",
       "      <td>...</td>\n",
       "      <td>4.632202</td>\n",
       "      <td>2.38562</td>\n",
       "      <td>135.53543</td>\n",
       "      <td>30.530973</td>\n",
       "      <td>27.711793</td>\n",
       "      <td>65.333748</td>\n",
       "      <td>86.33409</td>\n",
       "      <td>21.361426</td>\n",
       "      <td>0.19</td>\n",
       "      <td>4.0</td>\n",
       "    </tr>\n",
       "    <tr>\n",
       "      <th>Switzerland</th>\n",
       "      <td>0.929613</td>\n",
       "      <td>32.35</td>\n",
       "      <td>1.900</td>\n",
       "      <td>100.0</td>\n",
       "      <td>-1.101254</td>\n",
       "      <td>4.625230</td>\n",
       "      <td>8.567416</td>\n",
       "      <td>16.72</td>\n",
       "      <td>99.317229</td>\n",
       "      <td>173.429316</td>\n",
       "      <td>...</td>\n",
       "      <td>49.659398</td>\n",
       "      <td>2.87046</td>\n",
       "      <td>96.30638</td>\n",
       "      <td>28.455285</td>\n",
       "      <td>28.906998</td>\n",
       "      <td>22.673299</td>\n",
       "      <td>55.56190</td>\n",
       "      <td>9.759124</td>\n",
       "      <td>0.22</td>\n",
       "      <td>4.2</td>\n",
       "    </tr>\n",
       "    <tr>\n",
       "      <th>Denmark</th>\n",
       "      <td>0.923328</td>\n",
       "      <td>26.88</td>\n",
       "      <td>5.101</td>\n",
       "      <td>100.0</td>\n",
       "      <td>-1.767733</td>\n",
       "      <td>7.248329</td>\n",
       "      <td>23.029974</td>\n",
       "      <td>1.83</td>\n",
       "      <td>106.057718</td>\n",
       "      <td>199.614502</td>\n",
       "      <td>...</td>\n",
       "      <td>26.767245</td>\n",
       "      <td>2.98416</td>\n",
       "      <td>124.65927</td>\n",
       "      <td>37.988827</td>\n",
       "      <td>9.909512</td>\n",
       "      <td>39.677938</td>\n",
       "      <td>79.59763</td>\n",
       "      <td>33.395651</td>\n",
       "      <td>0.40</td>\n",
       "      <td>3.5</td>\n",
       "    </tr>\n",
       "    <tr>\n",
       "      <th>Netherlands</th>\n",
       "      <td>0.921794</td>\n",
       "      <td>28.87</td>\n",
       "      <td>6.165</td>\n",
       "      <td>100.0</td>\n",
       "      <td>-0.252734</td>\n",
       "      <td>10.064490</td>\n",
       "      <td>5.922602</td>\n",
       "      <td>-4.31</td>\n",
       "      <td>107.474154</td>\n",
       "      <td>193.011289</td>\n",
       "      <td>...</td>\n",
       "      <td>6.671366</td>\n",
       "      <td>2.15676</td>\n",
       "      <td>129.91277</td>\n",
       "      <td>36.888889</td>\n",
       "      <td>11.724418</td>\n",
       "      <td>23.533104</td>\n",
       "      <td>77.34356</td>\n",
       "      <td>19.724059</td>\n",
       "      <td>0.17</td>\n",
       "      <td>4.0</td>\n",
       "    </tr>\n",
       "  </tbody>\n",
       "</table>\n",
       "<p>5 rows × 65 columns</p>\n",
       "</div>"
      ],
      "text/plain": [
       "             Human Development Index HDI-2014  Gini coefficient 2005-2013  \\\n",
       "Id                                                                          \n",
       "Norway                               0.943877                       26.83   \n",
       "Australia                            0.934958                       34.01   \n",
       "Switzerland                          0.929613                       32.35   \n",
       "Denmark                              0.923328                       26.88   \n",
       "Netherlands                          0.921794                       28.87   \n",
       "\n",
       "             Adolescent birth rate 15-19 per 100k 20102015  \\\n",
       "Id                                                           \n",
       "Norway                                               7.834   \n",
       "Australia                                           12.059   \n",
       "Switzerland                                          1.900   \n",
       "Denmark                                              5.101   \n",
       "Netherlands                                          6.165   \n",
       "\n",
       "             Birth registration funder age 5 2005-2013  \\\n",
       "Id                                                       \n",
       "Norway                                           100.0   \n",
       "Australia                                        100.0   \n",
       "Switzerland                                      100.0   \n",
       "Denmark                                          100.0   \n",
       "Netherlands                                      100.0   \n",
       "\n",
       "             Carbon dioxide emissionsAverage annual growth  \\\n",
       "Id                                                           \n",
       "Norway                                            0.778925   \n",
       "Australia                                         1.090351   \n",
       "Switzerland                                      -1.101254   \n",
       "Denmark                                          -1.767733   \n",
       "Netherlands                                      -0.252734   \n",
       "\n",
       "             Carbon dioxide emissions per capita 2011 Tones  \\\n",
       "Id                                                            \n",
       "Norway                                             9.192879   \n",
       "Australia                                         16.519210   \n",
       "Switzerland                                        4.625230   \n",
       "Denmark                                            7.248329   \n",
       "Netherlands                                       10.064490   \n",
       "\n",
       "             Change forest percentable 1900 to 2012  \\\n",
       "Id                                                    \n",
       "Norway                                    11.914567   \n",
       "Australia                                 -4.561812   \n",
       "Switzerland                                8.567416   \n",
       "Denmark                                   23.029974   \n",
       "Netherlands                                5.922602   \n",
       "\n",
       "             Change mobile usage 2009 2014  Consumer price index 2013  \\\n",
       "Id                                                                      \n",
       "Norway                                5.22                 104.194175   \n",
       "Australia                            30.27                 107.789440   \n",
       "Switzerland                          16.72                  99.317229   \n",
       "Denmark                               1.83                 106.057718   \n",
       "Netherlands                          -4.31                 107.474154   \n",
       "\n",
       "             Domestic credit provided by financial sector 2013  \\\n",
       "Id                                                               \n",
       "Norway                                               86.956222   \n",
       "Australia                                           158.840776   \n",
       "Switzerland                                         173.429316   \n",
       "Denmark                                             199.614502   \n",
       "Netherlands                                         193.011289   \n",
       "\n",
       "                            ...                   \\\n",
       "Id                          ...                    \n",
       "Norway                      ...                    \n",
       "Australia                   ...                    \n",
       "Switzerland                 ...                    \n",
       "Denmark                     ...                    \n",
       "Netherlands                 ...                    \n",
       "\n",
       "             Renewable sources percentage of total 2012  \\\n",
       "Id                                                        \n",
       "Norway                                        47.752676   \n",
       "Australia                                      4.632202   \n",
       "Switzerland                                   49.659398   \n",
       "Denmark                                       26.767245   \n",
       "Netherlands                                    6.671366   \n",
       "\n",
       "             Research and development expenditure  2005-2012  \\\n",
       "Id                                                             \n",
       "Norway                                               1.65474   \n",
       "Australia                                            2.38562   \n",
       "Switzerland                                          2.87046   \n",
       "Denmark                                              2.98416   \n",
       "Netherlands                                          2.15676   \n",
       "\n",
       "             Secondary 2008-2014  \\\n",
       "Id                                 \n",
       "Norway                 111.06130   \n",
       "Australia              135.53543   \n",
       "Switzerland             96.30638   \n",
       "Denmark                124.65927   \n",
       "Netherlands            129.91277   \n",
       "\n",
       "             Share of seats in parliament percentage held by womand 2014  \\\n",
       "Id                                                                         \n",
       "Norway                                               39.644970             \n",
       "Australia                                            30.530973             \n",
       "Switzerland                                          28.455285             \n",
       "Denmark                                              37.988827             \n",
       "Netherlands                                          36.888889             \n",
       "\n",
       "             Stock of immigrants percentage of population 2013  \\\n",
       "Id                                                               \n",
       "Norway                                               13.772622   \n",
       "Australia                                            27.711793   \n",
       "Switzerland                                          28.906998   \n",
       "Denmark                                               9.909512   \n",
       "Netherlands                                          11.724418   \n",
       "\n",
       "             Taxes on income profit and capital gain 205 2013  \\\n",
       "Id                                                              \n",
       "Norway                                              31.798391   \n",
       "Australia                                           65.333748   \n",
       "Switzerland                                         22.673299   \n",
       "Denmark                                             39.677938   \n",
       "Netherlands                                         23.533104   \n",
       "\n",
       "             Tertiary -2008-2014  Total tax revenue of GDP 2005-2013  \\\n",
       "Id                                                                     \n",
       "Norway                  74.10112                           27.288097   \n",
       "Australia               86.33409                           21.361426   \n",
       "Switzerland             55.56190                            9.759124   \n",
       "Denmark                 79.59763                           33.395651   \n",
       "Netherlands             77.34356                           19.724059   \n",
       "\n",
       "             Tuberculosis rate per thousands 2012  \\\n",
       "Id                                                  \n",
       "Norway                                       0.14   \n",
       "Australia                                    0.19   \n",
       "Switzerland                                  0.22   \n",
       "Denmark                                      0.40   \n",
       "Netherlands                                  0.17   \n",
       "\n",
       "             Under-five Mortality 2013 thousands  \n",
       "Id                                                \n",
       "Norway                                       2.8  \n",
       "Australia                                    4.0  \n",
       "Switzerland                                  4.2  \n",
       "Denmark                                      3.5  \n",
       "Netherlands                                  4.0  \n",
       "\n",
       "[5 rows x 65 columns]"
      ]
     },
     "execution_count": 2,
     "metadata": {},
     "output_type": "execute_result"
    }
   ],
   "source": [
    "# 18, 19 Quiz\n",
    "%matplotlib inline\n",
    "import pandas as pd\n",
    "\n",
    "df = pd.read_csv('world_indexes.csv', index_col=0)\n",
    "df.head(5)"
   ]
  },
  {
   "cell_type": "code",
   "execution_count": 3,
   "metadata": {},
   "outputs": [
    {
     "data": {
      "text/plain": [
       "Index(['Human Development Index HDI-2014', 'Gini coefficient 2005-2013',\n",
       "       'Adolescent birth rate 15-19 per 100k 20102015',\n",
       "       'Birth registration funder age 5 2005-2013',\n",
       "       'Carbon dioxide emissionsAverage annual growth',\n",
       "       'Carbon dioxide emissions per capita 2011 Tones',\n",
       "       'Change forest percentable 1900 to 2012',\n",
       "       'Change mobile usage 2009 2014', 'Consumer price index 2013',\n",
       "       'Domestic credit provided by financial sector 2013',\n",
       "       'Domestic food price level 2009 2014 index',\n",
       "       'Domestic food price level 2009-2014 volitility index',\n",
       "       'Electrification rate or population',\n",
       "       'Expected years of schooling - Years',\n",
       "       'Exports and imports percentage GPD 2013',\n",
       "       'Female Suicide Rate 100k people',\n",
       "       'Foreign direct investment net inflows percentage GDP 2013',\n",
       "       'Forest area percentage of total land area 2012',\n",
       "       'Fossil fuels percentage of total 2012', 'Fresh water withdrawals 2005',\n",
       "       'Gender Inequality Index 2014',\n",
       "       'General government final consumption expenditure - Annual growth 2005 2013',\n",
       "       'General government final consumption expenditure - Perce of GDP 2005-2013',\n",
       "       'Gross domestic product GDP 2013',\n",
       "       'Gross domestic product GDP percapta',\n",
       "       'Gross fixed capital formation of GDP 2005-2013',\n",
       "       'Gross national income GNI per capita - 2011  Dollars',\n",
       "       'Homeless people due to natural disaster 2005 2014 per million people',\n",
       "       'Homicide rate per 100k people 2008-2012',\n",
       "       'Infant Mortality 2013 per thousands',\n",
       "       'International inbound tourists thausands 2013',\n",
       "       'International student mobility of total tetiary enrolvemnt 2013',\n",
       "       'Internet users percentage of population 2014',\n",
       "       'Intimate or nonintimate partner violence ever experienced 2001-2011',\n",
       "       'Life expectancy at birth- years', 'MaleSuicide Rate 100k people',\n",
       "       'Maternal mortality ratio deaths per 100 live births 2013',\n",
       "       'Mean years of schooling - Years',\n",
       "       'Mobile phone subscriptions per 100 people 2014',\n",
       "       'Natural resource depletion',\n",
       "       'Net migration rate per 1k people 2010-2015',\n",
       "       'Physicians per 10k people',\n",
       "       'Population affected by natural desasters average annual per million people 2005-2014',\n",
       "       'Population living on degraded land Percentage 2010',\n",
       "       'Population with at least some secondary education percent 2005-2013',\n",
       "       'Pre-primary 2008-2014', 'Primary-2008-2014',\n",
       "       'Primary school dropout rate 2008-2014',\n",
       "       'Prison population per 100k people',\n",
       "       'Private capital flows percentage GDP 2013',\n",
       "       'Public expenditure on education Percentange GDP',\n",
       "       'Public health expenditure percentage of GDP 2013',\n",
       "       'Pupil-teacher ratio primary school pupils per teacher 2008-2014',\n",
       "       'Refugees by country of origin',\n",
       "       'Remittances inflows percentual GDP 2013',\n",
       "       'Renewable sources percentage of total 2012',\n",
       "       'Research and development expenditure  2005-2012',\n",
       "       'Secondary 2008-2014',\n",
       "       'Share of seats in parliament percentage held by womand 2014',\n",
       "       'Stock of immigrants percentage of population 2013',\n",
       "       'Taxes on income profit and capital gain 205 2013',\n",
       "       'Tertiary -2008-2014', 'Total tax revenue of GDP 2005-2013',\n",
       "       'Tuberculosis rate per thousands 2012',\n",
       "       'Under-five Mortality 2013 thousands'],\n",
       "      dtype='object')"
      ]
     },
     "execution_count": 3,
     "metadata": {},
     "output_type": "execute_result"
    }
   ],
   "source": [
    "df.columns"
   ]
  },
  {
   "cell_type": "code",
   "execution_count": 6,
   "metadata": {},
   "outputs": [
    {
     "data": {
      "text/plain": [
       "<matplotlib.axes._subplots.AxesSubplot at 0x279b4db42e8>"
      ]
     },
     "execution_count": 6,
     "metadata": {},
     "output_type": "execute_result"
    },
    {
     "data": {
      "image/png": "[encoded data removed]",
      "text/plain": [
       "<Figure size 432x288 with 1 Axes>"
      ]
     },
     "metadata": {
      "needs_background": "light"
     },
     "output_type": "display_data"
    }
   ],
   "source": [
    "df.plot(kind='scatter', x='Life expectancy at birth- years', y='Internet users percentage of population 2014')"
   ]
  },
  {
   "cell_type": "code",
   "execution_count": 7,
   "metadata": {},
   "outputs": [
    {
     "data": {
      "text/plain": [
       "<matplotlib.axes._subplots.AxesSubplot at 0x279b6e6b198>"
      ]
     },
     "execution_count": 7,
     "metadata": {},
     "output_type": "execute_result"
    },
    {
     "data": {
      "image/png": "[encoded data removed]",
      "text/plain": [
       "<Figure size 432x288 with 1 Axes>"
      ]
     },
     "metadata": {
      "needs_background": "light"
     },
     "output_type": "display_data"
    }
   ],
   "source": [
    "df.plot(kind='scatter', x='Forest area percentage of total land area 2012', y='Carbon dioxide emissionsAverage annual growth')"
   ]
  },
  {
   "cell_type": "code",
   "execution_count": 8,
   "metadata": {},
   "outputs": [
    {
     "data": {
      "text/plain": [
       "<matplotlib.axes._subplots.AxesSubplot at 0x279b6ede128>"
      ]
     },
     "execution_count": 8,
     "metadata": {},
     "output_type": "execute_result"
    },
    {
     "data": {
      "image/png": "[encoded data removed]",
      "text/plain": [
       "<Figure size 432x288 with 1 Axes>"
      ]
     },
     "metadata": {
      "needs_background": "light"
     },
     "output_type": "display_data"
    }
   ],
   "source": [
    "df.plot(kind='scatter', x='Internet users percentage of population 2014', y='Forest area percentage of total land area 2012')"
   ]
  },
  {
   "cell_type": "code",
   "execution_count": 9,
   "metadata": {},
   "outputs": [
    {
     "data": {
      "text/plain": [
       "<matplotlib.axes._subplots.AxesSubplot at 0x279b6ec45c0>"
      ]
     },
     "execution_count": 9,
     "metadata": {},
     "output_type": "execute_result"
    },
    {
     "data": {
      "image/png": "[encoded data removed]",
      "text/plain": [
       "<Figure size 432x288 with 1 Axes>"
      ]
     },
     "metadata": {
      "needs_background": "light"
     },
     "output_type": "display_data"
    }
   ],
   "source": [
    "df.plot(kind='scatter', x='Life expectancy at birth- years', y='Carbon dioxide emissionsAverage annual growth')"
   ]
  },
  {
   "cell_type": "code",
   "execution_count": 10,
   "metadata": {},
   "outputs": [
    {
     "data": {
      "text/plain": [
       "<matplotlib.axes._subplots.AxesSubplot at 0x279b6ecfd30>"
      ]
     },
     "execution_count": 10,
     "metadata": {},
     "output_type": "execute_result"
    },
    {
     "data": {
      "image/png": "[encoded data removed]",
      "text/plain": [
       "<Figure size 432x288 with 1 Axes>"
      ]
     },
     "metadata": {
      "needs_background": "light"
     },
     "output_type": "display_data"
    }
   ],
   "source": [
    "df.plot(kind='scatter', x='Life expectancy at birth- years', y='Forest area percentage of total land area 2012')"
   ]
  },
  {
   "cell_type": "code",
   "execution_count": null,
   "metadata": {},
   "outputs": [],
   "source": []
  }
 ],
 "metadata": {
  "kernelspec": {
   "display_name": "Python 3",
   "language": "python",
   "name": "python3"
  },
  "language_info": {
   "codemirror_mode": {
    "name": "ipython",
    "version": 3
   },
   "file_extension": ".py",
   "mimetype": "text/x-python",
   "name": "python",
   "nbconvert_exporter": "python",
   "pygments_lexer": "ipython3",
   "version": "3.7.1"
  }
 },
 "nbformat": 4,
 "nbformat_minor": 2
}
